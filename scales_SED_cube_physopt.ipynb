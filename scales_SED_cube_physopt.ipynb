{
 "cells": [
  {
   "cell_type": "markdown",
   "metadata": {},
   "source": [
    "# SCALES low-res SED example - PHYSICAL OPTICS LENSLET PSFS"
   ]
  },
  {
   "cell_type": "markdown",
   "metadata": {},
   "source": [
    "This notebook runs through all the steps for generating a raw SCALES image using either:\n",
    "\n",
    "(1) a target spectrum in erg/s/cm^2/um + a PSF\n",
    "OR\n",
    "(2) a model datacube with fluxes in erg/s/cm^2/um\n",
    "\n",
    "You don't need to change any of the configuration stuff at the beginning if you don't want to. There are comments that describe some parameters that you might be interested in adjusting.\n",
    "\n",
    "Right now we just have the 2-5 um mode enabled. In the future you'll be able to switch to other low-res modes. To do that all you have to do is change arg_spaxel['min_wavelength'] and arg_spaxel['max_wavelength'] at the bottom of the \"Configure SCALES Mode\" section.\n",
    "\n",
    "This example just uses PHOENIX models to set up simple stellar targets as \"Target\" objects. It then uses PHOENIX models to make an example model datacube that you can feed to the simulator. You can replace that with whatever scene you like, as long as the dimensions match the number of spaxels in each dimension (108 by 108). \n",
    "\n",
    "In the end it does a simple aperture extraction to generate a datacube. "
   ]
  },
  {
   "cell_type": "code",
   "execution_count": 1,
   "metadata": {},
   "outputs": [],
   "source": [
    "import sys\n",
    "import numpy as np\n",
    "import matplotlib.pyplot as plt\n",
    "import os\n",
    "from astropy.io import fits\n",
    "import scipy.ndimage\n",
    "from astropy import units as u\n",
    "\n",
    "from scalessim.DFT import *\n",
    "from scalessim.binning import *\n",
    "from scalessim.phasescreen import *\n",
    "from scalessim.pupil import *\n",
    "from scalessim.io import *\n",
    "from scalessim.focal_plane import *\n",
    "from scalessim.targs import *\n",
    "from scalessim.base import *\n",
    "from scalessim.helpers import *"
   ]
  },
  {
   "cell_type": "markdown",
   "metadata": {},
   "source": [
    "## Configure your H2RG"
   ]
  },
  {
   "cell_type": "markdown",
   "metadata": {},
   "source": [
    "Load in h2rg configuration file "
   ]
  },
  {
   "cell_type": "code",
   "execution_count": 2,
   "metadata": {},
   "outputs": [],
   "source": [
    "import configparser\n",
    "from detector import nghxrg as ng\n",
    "\n",
    "config = configparser.ConfigParser()\n",
    "config.read('h2rg.ini')\n",
    "\n",
    "arg_detector = {}\n",
    "arg_detector.update(read_ini(config['Defined']))\n",
    "\n",
    "ng_h2rg = ng.HXRGNoise(verbose=False,\n",
    "                        wind_mode='WINDOW',\n",
    "                        naxis1=1024, naxis2=1024,\n",
    "                        pca0_file='./detector/lmircam_pca0.fits')\n"
   ]
  },
  {
   "cell_type": "markdown",
   "metadata": {},
   "source": [
    "Define some reasonable noise parameters"
   ]
  },
  {
   "cell_type": "code",
   "execution_count": 3,
   "metadata": {},
   "outputs": [],
   "source": [
    "rd_noise=arg_detector['readout_noise_cds']*1.   # White read noise per integration\n",
    "pedestal=arg_detector['pedestal']*1.   # DC pedestal drift rms\n",
    "c_pink=arg_detector['c_pink']*1.     # Correlated pink noise\n",
    "u_pink=arg_detector['u_pink']*1.     # Uncorrelated pink noise\n",
    "acn=arg_detector['acn']*1.        # Correlated ACN\n",
    "pca0_amp=arg_detector['pca0_amp']*1.   # Amplitude of PCA zero \"picture frame\" noise\n",
    "\n",
    "#arg_detector "
   ]
  },
  {
   "cell_type": "markdown",
   "metadata": {},
   "source": [
    "## Configure SCALES mode"
   ]
  },
  {
   "cell_type": "markdown",
   "metadata": {},
   "source": [
    "Read in SCALES config file for H2RG"
   ]
  },
  {
   "cell_type": "code",
   "execution_count": 4,
   "metadata": {},
   "outputs": [],
   "source": [
    "config.read('scales_h2rg.ini')\n",
    "arg_spaxel = {}\n",
    "arg_spaxel.update(read_ini(config['Defined']))\n",
    "arg_spaxel.update(read_ini(config['Derived']))\n",
    "arg_spaxel.update(read_ini(config['User']))\n",
    "\n",
    "#arg_spaxel"
   ]
  },
  {
   "cell_type": "markdown",
   "metadata": {},
   "source": [
    "Adjust minimum and maximum wavelength if we want to"
   ]
  },
  {
   "cell_type": "code",
   "execution_count": 5,
   "metadata": {},
   "outputs": [],
   "source": [
    "arg_spaxel['min_wavelength'] = 2.0 #minimum wavelength in microns\n",
    "arg_spaxel['max_wavelength'] = 5.2 #maximum wavelength in microns"
   ]
  },
  {
   "cell_type": "markdown",
   "metadata": {},
   "source": [
    "## Set up lenslet traces"
   ]
  },
  {
   "cell_type": "code",
   "execution_count": 6,
   "metadata": {},
   "outputs": [
    {
     "name": "stdout",
     "output_type": "stream",
     "text": [
      "replacing 2.0\n",
      "replacing 2.0\n",
      "replacing 2.0\n",
      "replacing 2.0\n",
      "replacing 2.0\n",
      "replacing 2.0\n",
      "replacing 2.0\n",
      "replacing 2.0\n",
      "replacing 2.0\n",
      "replacing 2.0\n",
      "replacing 5.0\n",
      "replacing 5.0\n",
      "replacing 5.0\n",
      "replacing 5.0\n",
      "replacing 5.0\n",
      "replacing 5.0\n",
      "replacing 5.0\n",
      "replacing 5.0\n",
      "replacing 5.0\n",
      "replacing 5.0\n",
      "replacing 5.0\n",
      "replacing 5.0\n",
      "replacing 5.0\n",
      "replacing 5.0\n",
      "replacing 5.0\n",
      "replacing 5.0\n",
      "replacing 5.0\n",
      "replacing 5.0\n",
      "replacing 5.0\n",
      "replacing 5.0\n",
      "replacing 5.0\n",
      "replacing 5.0\n",
      "replacing 5.0\n",
      "replacing 5.0\n",
      "replacing 5.0\n",
      "replacing 5.0\n",
      "replacing 5.0\n",
      "replacing 5.0\n",
      "replacing 5.0\n",
      "replacing 5.0\n",
      "(341, 56, 56)\n",
      "[1. 1. 1. 1. 1. 1. 1. 1. 1. 1. 1. 1. 1. 1. 1. 1. 1. 1. 1. 1. 1. 1. 1. 1.\n",
      " 1. 1. 1. 1. 1. 1. 1. 1. 1. 1. 1. 1. 1. 1. 1. 1. 1. 1. 1. 1. 1. 1. 1. 1.\n",
      " 1. 1. 1. 1. 1. 1. 1. 1. 1. 1. 1. 1. 1. 1. 1. 1. 1. 1. 1. 1. 1. 1. 1. 1.\n",
      " 1. 1. 1. 1. 1. 1. 1. 1. 1. 1. 1. 1. 1. 1. 1. 1. 1. 1. 1. 1. 1. 1. 1. 1.\n",
      " 1. 1. 1. 1. 1. 1. 1. 1. 1. 1. 1. 1. 1. 1. 1. 1. 1. 1. 1. 1. 1. 1. 1. 1.\n",
      " 1. 1. 1. 1. 1. 1. 1. 1. 1. 1. 1. 1. 1. 1. 1. 1. 1. 1. 1. 1. 1. 1. 1. 1.\n",
      " 1. 1. 1. 1. 1. 1. 1. 1. 1. 1. 1. 1. 1. 1. 1. 1. 1. 1. 1. 1. 1. 1. 1. 1.\n",
      " 1. 1. 1. 1. 1. 1. 1. 1. 1. 1. 1. 1. 1. 1. 1. 1. 1. 1. 1. 1. 1. 1. 1. 1.\n",
      " 1. 1. 1. 1. 1. 1. 1. 1. 1. 1. 1. 1. 1. 1. 1. 1. 1. 1. 1. 1. 1. 1. 1. 1.\n",
      " 1. 1. 1. 1. 1. 1. 1. 1. 1. 1. 1. 1. 1. 1. 1. 1. 1. 1. 1. 1. 1. 1. 1. 1.\n",
      " 1. 1. 1. 1. 1. 1. 1. 1. 1. 1. 1. 1. 1. 1. 1. 1. 1. 1. 1. 1. 1. 1. 1. 1.\n",
      " 1. 1. 1. 1. 1. 1. 1. 1. 1. 1. 1. 1. 1. 1. 1. 1. 1. 1. 1. 1. 1. 1. 1. 1.\n",
      " 1. 1. 1. 1. 1. 1. 1. 1. 1. 1. 1. 1. 1. 1. 1. 1. 1. 1. 1. 1. 1. 1. 1. 1.\n",
      " 1. 1. 1. 1. 1. 1. 1. 1. 1. 1. 1. 1. 1. 1. 1. 1. 1. 1. 1. 1. 1. 1. 1. 1.\n",
      " 1. 1. 1. 1. 1.]\n"
     ]
    },
    {
     "data": {
      "image/png": "[encoded data removed]",
      "text/plain": [
       "<Figure size 432x288 with 1 Axes>"
      ]
     },
     "metadata": {
      "needs_background": "light"
     },
     "output_type": "display_data"
    }
   ],
   "source": [
    "lens = Lenslet(arg_spaxel)\n",
    "lens.get_shifts()\n",
    "lens.make_trace(phys=True)"
   ]
  },
  {
   "cell_type": "code",
   "execution_count": 7,
   "metadata": {},
   "outputs": [
    {
     "name": "stdout",
     "output_type": "stream",
     "text": [
      "(341, 56, 56)\n",
      "[1. 1. 1. 1. 1. 1. 1. 1. 1. 1. 1. 1. 1. 1. 1. 1. 1. 1. 1. 1. 1. 1. 1. 1.\n",
      " 1. 1. 1. 1. 1. 1. 1. 1. 1. 1. 1. 1. 1. 1. 1. 1. 1. 1. 1. 1. 1. 1. 1. 1.\n",
      " 1. 1. 1. 1. 1. 1. 1. 1. 1. 1. 1. 1. 1. 1. 1. 1. 1. 1. 1. 1. 1. 1. 1. 1.\n",
      " 1. 1. 1. 1. 1. 1. 1. 1. 1. 1. 1. 1. 1. 1. 1. 1. 1. 1. 1. 1. 1. 1. 1. 1.\n",
      " 1. 1. 1. 1. 1. 1. 1. 1. 1. 1. 1. 1. 1. 1. 1. 1. 1. 1. 1. 1. 1. 1. 1. 1.\n",
      " 1. 1. 1. 1. 1. 1. 1. 1. 1. 1. 1. 1. 1. 1. 1. 1. 1. 1. 1. 1. 1. 1. 1. 1.\n",
      " 1. 1. 1. 1. 1. 1. 1. 1. 1. 1. 1. 1. 1. 1. 1. 1. 1. 1. 1. 1. 1. 1. 1. 1.\n",
      " 1. 1. 1. 1. 1. 1. 1. 1. 1. 1. 1. 1. 1. 1. 1. 1. 1. 1. 1. 1. 1. 1. 1. 1.\n",
      " 1. 1. 1. 1. 1. 1. 1. 1. 1. 1. 1. 1. 1. 1. 1. 1. 1. 1. 1. 1. 1. 1. 1. 1.\n",
      " 1. 1. 1. 1. 1. 1. 1. 1. 1. 1. 1. 1. 1. 1. 1. 1. 1. 1. 1. 1. 1. 1. 1. 1.\n",
      " 1. 1. 1. 1. 1. 1. 1. 1. 1. 1. 1. 1. 1. 1. 1. 1. 1. 1. 1. 1. 1. 1. 1. 1.\n",
      " 1. 1. 1. 1. 1. 1. 1. 1. 1. 1. 1. 1. 1. 1. 1. 1. 1. 1. 1. 1. 1. 1. 1. 1.\n",
      " 1. 1. 1. 1. 1. 1. 1. 1. 1. 1. 1. 1. 1. 1. 1. 1. 1. 1. 1. 1. 1. 1. 1. 1.\n",
      " 1. 1. 1. 1. 1. 1. 1. 1. 1. 1. 1. 1. 1. 1. 1. 1. 1. 1. 1. 1. 1. 1. 1. 1.\n",
      " 1. 1. 1. 1. 1.]\n"
     ]
    },
    {
     "data": {
      "image/png": "[encoded data removed]",
      "text/plain": [
       "<Figure size 432x288 with 1 Axes>"
      ]
     },
     "metadata": {
      "needs_background": "light"
     },
     "output_type": "display_data"
    }
   ],
   "source": [
    "lens = Lenslet(arg_spaxel)\n",
    "lens.get_shifts()\n",
    "lens.make_trace(phys=False)"
   ]
  },
  {
   "cell_type": "code",
   "execution_count": 9,
   "metadata": {},
   "outputs": [
    {
     "name": "stdout",
     "output_type": "stream",
     "text": [
      "(341, 56, 56)\n"
     ]
    }
   ],
   "source": [
    "print(lens.trace.shape)"
   ]
  },
  {
   "cell_type": "code",
   "execution_count": null,
   "metadata": {},
   "outputs": [],
   "source": []
  }
 ],
 "metadata": {
  "kernelspec": {
   "display_name": "Python 3",
   "language": "python",
   "name": "python3"
  },
  "language_info": {
   "codemirror_mode": {
    "name": "ipython",
    "version": 3
   },
   "file_extension": ".py",
   "mimetype": "text/x-python",
   "name": "python",
   "nbconvert_exporter": "python",
   "pygments_lexer": "ipython3",
   "version": "3.6.12"
  }
 },
 "nbformat": 4,
 "nbformat_minor": 4
}
