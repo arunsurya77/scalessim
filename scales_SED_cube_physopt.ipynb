{
 "cells": [
  {
   "cell_type": "markdown",
   "metadata": {},
   "source": [
    "# SCALES low-res SED example - PHYSICAL OPTICS LENSLET PSFS"
   ]
  },
  {
   "cell_type": "markdown",
   "metadata": {},
   "source": [
    "This notebook runs through all the steps for generating a raw SCALES image using either:\n",
    "\n",
    "(1) a target spectrum in erg/s/cm^2/um + a PSF\n",
    "OR\n",
    "(2) a model datacube with fluxes in erg/s/cm^2/um\n",
    "\n",
    "You don't need to change any of the configuration stuff at the beginning if you don't want to. There are comments that describe some parameters that you might be interested in adjusting.\n",
    "\n",
    "Right now we just have the 2-5 um mode enabled. In the future you'll be able to switch to other low-res modes. To do that all you have to do is change arg_spaxel['min_wavelength'] and arg_spaxel['max_wavelength'] at the bottom of the \"Configure SCALES Mode\" section.\n",
    "\n",
    "This example just uses PHOENIX models to set up simple stellar targets as \"Target\" objects. It then uses PHOENIX models to make an example model datacube that you can feed to the simulator. You can replace that with whatever scene you like, as long as the dimensions match the number of spaxels in each dimension (108 by 108). \n",
    "\n",
    "In the end it does a simple aperture extraction to generate a datacube. "
   ]
  },
  {
   "cell_type": "code",
   "execution_count": 1,
   "metadata": {},
   "outputs": [],
   "source": [
    "import sys\n",
    "import numpy as np\n",
    "import matplotlib.pyplot as plt\n",
    "import os\n",
    "from astropy.io import fits\n",
    "import scipy.ndimage\n",
    "from astropy import units as u\n",
    "\n",
    "from scalessim.DFT import *\n",
    "from scalessim.binning import *\n",
    "from scalessim.phasescreen import *\n",
    "from scalessim.pupil import *\n",
    "from scalessim.io import *\n",
    "from scalessim.focal_plane import *\n",
    "from scalessim.targs import *\n",
    "from scalessim.base import *\n",
    "from scalessim.helpers import *"
   ]
  },
  {
   "cell_type": "markdown",
   "metadata": {},
   "source": [
    "## Configure your H2RG"
   ]
  },
  {
   "cell_type": "markdown",
   "metadata": {},
   "source": [
    "Load in h2rg configuration file "
   ]
  },
  {
   "cell_type": "code",
   "execution_count": 2,
   "metadata": {},
   "outputs": [],
   "source": [
    "import configparser\n",
    "from detector import nghxrg as ng\n",
    "\n",
    "config = configparser.ConfigParser()\n",
    "config.read('h2rg.ini')\n",
    "\n",
    "arg_detector = {}\n",
    "arg_detector.update(read_ini(config['Defined']))\n",
    "\n",
    "ng_h2rg = ng.HXRGNoise(verbose=False,\n",
    "                        wind_mode='WINDOW',\n",
    "                        naxis1=1024, naxis2=1024,\n",
    "                        pca0_file='./detector/lmircam_pca0.fits')\n"
   ]
  },
  {
   "cell_type": "markdown",
   "metadata": {},
   "source": [
    "Define some reasonable noise parameters"
   ]
  },
  {
   "cell_type": "code",
   "execution_count": 3,
   "metadata": {},
   "outputs": [],
   "source": [
    "rd_noise=arg_detector['readout_noise_cds']*1.   # White read noise per integration\n",
    "pedestal=arg_detector['pedestal']*1.   # DC pedestal drift rms\n",
    "c_pink=arg_detector['c_pink']*1.     # Correlated pink noise\n",
    "u_pink=arg_detector['u_pink']*1.     # Uncorrelated pink noise\n",
    "acn=arg_detector['acn']*1.        # Correlated ACN\n",
    "pca0_amp=arg_detector['pca0_amp']*1.   # Amplitude of PCA zero \"picture frame\" noise\n",
    "\n",
    "#arg_detector "
   ]
  },
  {
   "cell_type": "markdown",
   "metadata": {},
   "source": [
    "## Configure SCALES mode"
   ]
  },
  {
   "cell_type": "markdown",
   "metadata": {},
   "source": [
    "Read in SCALES config file for H2RG"
   ]
  },
  {
   "cell_type": "code",
   "execution_count": 4,
   "metadata": {},
   "outputs": [],
   "source": [
    "config.read('scales_h2rg.ini')\n",
    "arg_spaxel = {}\n",
    "arg_spaxel.update(read_ini(config['Defined']))\n",
    "arg_spaxel.update(read_ini(config['Derived']))\n",
    "arg_spaxel.update(read_ini(config['User']))\n",
    "\n",
    "#arg_spaxel"
   ]
  },
  {
   "cell_type": "markdown",
   "metadata": {},
   "source": [
    "Adjust minimum and maximum wavelength if we want to"
   ]
  },
  {
   "cell_type": "code",
   "execution_count": 5,
   "metadata": {},
   "outputs": [],
   "source": [
    "arg_spaxel['min_wavelength'] = 2.0 #minimum wavelength in microns\n",
    "arg_spaxel['max_wavelength'] = 5.2 #maximum wavelength in microns"
   ]
  },
  {
   "cell_type": "markdown",
   "metadata": {},
   "source": [
    "## Set up lenslet traces"
   ]
  },
  {
   "cell_type": "code",
   "execution_count": 6,
   "metadata": {},
   "outputs": [
    {
     "data": {
      "image/png": "[encoded data removed]",
      "text/plain": [
       "<Figure size 432x288 with 1 Axes>"
      ]
     },
     "metadata": {
      "needs_background": "light"
     },
     "output_type": "display_data"
    }
   ],
   "source": [
    "lens = Lenslet(arg_spaxel)\n",
    "lens.get_shifts()\n",
    "lens.make_trace(phys=False, verbose=True)"
   ]
  },
  {
   "cell_type": "markdown",
   "metadata": {},
   "source": [
    "## Test trace generation with different rotation angle "
   ]
  },
  {
   "cell_type": "code",
   "execution_count": null,
   "metadata": {},
   "outputs": [
    {
     "name": "stdout",
     "output_type": "stream",
     "text": [
      "0 1.9 micron\n",
      "1 1.91 micron\n",
      "2 1.92 micron\n",
      "3 1.93 micron\n",
      "4 1.94 micron\n",
      "5 1.95 micron\n",
      "6 1.96 micron\n",
      "7 1.97 micron\n",
      "8 1.98 micron\n",
      "9 1.99 micron\n",
      "10 2.0 micron\n",
      "11 2.01 micron\n",
      "12 2.02 micron\n",
      "13 2.03 micron\n",
      "14 2.04 micron\n",
      "15 2.05 micron\n",
      "16 2.06 micron\n",
      "17 2.07 micron\n",
      "18 2.08 micron\n",
      "19 2.09 micron\n",
      "20 2.1 micron\n",
      "21 2.11 micron\n",
      "22 2.12 micron\n",
      "23 2.13 micron\n",
      "24 2.1399999999999997 micron\n",
      "25 2.15 micron\n",
      "26 2.16 micron\n",
      "27 2.17 micron\n",
      "28 2.1799999999999997 micron\n",
      "29 2.19 micron\n",
      "30 2.1999999999999997 micron\n",
      "31 2.21 micron\n",
      "32 2.2199999999999998 micron\n",
      "33 2.23 micron\n",
      "34 2.2399999999999998 micron\n",
      "35 2.25 micron\n",
      "36 2.26 micron\n",
      "37 2.27 micron\n",
      "38 2.28 micron\n",
      "39 2.29 micron\n",
      "40 2.3 micron\n",
      "41 2.31 micron\n",
      "42 2.32 micron\n",
      "43 2.33 micron\n",
      "44 2.34 micron\n",
      "45 2.35 micron\n",
      "46 2.36 micron\n",
      "47 2.37 micron\n",
      "48 2.38 micron\n",
      "49 2.3899999999999997 micron\n",
      "50 2.4 micron\n",
      "51 2.41 micron\n",
      "52 2.42 micron\n",
      "53 2.4299999999999997 micron\n",
      "54 2.44 micron\n",
      "55 2.45 micron\n",
      "56 2.46 micron\n",
      "57 2.4699999999999998 micron\n",
      "58 2.48 micron\n",
      "59 2.4899999999999998 micron\n",
      "60 2.5 micron\n",
      "61 2.51 micron\n",
      "62 2.52 micron\n",
      "63 2.53 micron\n",
      "64 2.54 micron\n",
      "65 2.55 micron\n",
      "66 2.56 micron\n",
      "67 2.57 micron\n",
      "68 2.58 micron\n",
      "69 2.59 micron\n",
      "70 2.6 micron\n",
      "71 2.61 micron\n",
      "72 2.62 micron\n",
      "73 2.63 micron\n",
      "74 2.6399999999999997 micron\n",
      "75 2.65 micron\n",
      "76 2.66 micron\n",
      "77 2.67 micron\n",
      "78 2.6799999999999997 micron\n",
      "79 2.69 micron\n",
      "80 2.7 micron\n",
      "81 2.71 micron\n",
      "82 2.7199999999999998 micron\n",
      "83 2.73 micron\n",
      "84 2.7399999999999998 micron\n",
      "85 2.75 micron\n",
      "86 2.76 micron\n",
      "87 2.77 micron\n",
      "88 2.78 micron\n",
      "89 2.79 micron\n"
     ]
    }
   ],
   "source": [
    "lens = Lenslet(arg_spaxel)\n",
    "lens.get_shifts(rot = 19.5)\n",
    "lens.make_trace(phys=False, verbose=True)"
   ]
  },
  {
   "cell_type": "markdown",
   "metadata": {},
   "source": [
    "# Test raw frame generation with different rotation angle "
   ]
  },
  {
   "cell_type": "markdown",
   "metadata": {},
   "source": [
    "## Read in Keck pupil"
   ]
  },
  {
   "cell_type": "code",
   "execution_count": null,
   "metadata": {},
   "outputs": [],
   "source": [
    "keck = fits.getdata('keckpupil.fits')\n",
    "keck = scipy.ndimage.zoom(keck, 10, order=0)\n",
    "pupil = Pupil()\n",
    "pupil.pupil = keck"
   ]
  },
  {
   "cell_type": "markdown",
   "metadata": {},
   "source": [
    "## Filtered phase screen for toy AO correction"
   ]
  },
  {
   "cell_type": "markdown",
   "metadata": {},
   "source": [
    "Can set screen1 to zeros to leave this out"
   ]
  },
  {
   "cell_type": "code",
   "execution_count": null,
   "metadata": {},
   "outputs": [],
   "source": [
    "screen = PhaseScreen(pupil=pupil, L0=10)\n",
    "screen.sr_factor = screen.set_strehl(.8, 500e-9)\n",
    "screen1 = screen.get_res()\n",
    "#screen1 = np.zeros(screen1.shape)"
   ]
  },
  {
   "cell_type": "markdown",
   "metadata": {},
   "source": [
    "## Use pupil and residual phase to generate cube of Keck PSFs"
   ]
  },
  {
   "cell_type": "code",
   "execution_count": null,
   "metadata": {},
   "outputs": [],
   "source": [
    "nspax = arg_spaxel['no_spaxel']\n",
    "nlam = lens.trace.shape[0]\n",
    "\n",
    "keck_cube = np.zeros((nlam, nspax, nspax))\n",
    "mag1 = magn(lens.lmin)\n",
    "mag2 = magn(lens.lmax)\n",
    "\n",
    "psf_file = 'keck_psf_cube_'+str(lens.lmin)+'_'+str(lens.lmax)+'_n'+str(nlam)+'.fits'\n",
    "if os.path.isfile(psf_file)==False:\n",
    "    for i, mag in enumerate(np.linspace(mag1, mag2, nlam)):\n",
    "        W = DFT_matrix(1600, mag)\n",
    "        A = pupil.pupil * np.exp(1.j * screen1)\n",
    "        out = abs(W.dot(A).dot(W))**2\n",
    "        out /= np.sum(out, axis=(0,1))\n",
    "        keck_cube[i] = frebin(out, (108, 108))\n",
    "    fits.writeto(psf_file,np.array(keck_cube),clobber=True)\n",
    "else: keck_cube = pyfits.getdata(psf_file)"
   ]
  },
  {
   "cell_type": "markdown",
   "metadata": {},
   "source": [
    "## Define some observational parameters"
   ]
  },
  {
   "cell_type": "markdown",
   "metadata": {},
   "source": [
    "-Reads in sky transmission and emission models provided by Gemini for MK site: https://www.gemini.edu/observing/telescopes-and-sites/sites#IRSky\n",
    "\n",
    "-Reads in atmospheric dispersion data based on relative humidity, temperature, pressure, and airmass\n",
    "\n",
    "-Instrument transmission & emission includes SCALES + AO emissivity\n",
    "\n",
    "-Default QE is 70%\n",
    "\n",
    "-For now set up perfect filter with tophat from lmin to lmax\n",
    "\n",
    "-Define single frame integration time in seconds"
   ]
  },
  {
   "cell_type": "code",
   "execution_count": null,
   "metadata": {},
   "outputs": [],
   "source": [
    "vapor = 1 #PWV in mm\n",
    "airmass = 1 \n",
    "skybg = SkyBG(vapor,airmass)\n",
    "skytrans = SkyTrans(vapor,airmass)\n",
    "atmodisp = AtmoDispersion(90,20,600)\n",
    "inst_emissivities = [.08]*3 + [.01]*8\n",
    "inst_temps = [273*u.K]*11\n",
    "inst = InstTransEm(inst_emissivities, inst_temps)\n",
    "qe = QE()\n",
    "filt = Filter(lmin=lens.lmin,lmax=lens.lmax)\n",
    "dit = 1 ###integration time in seconds"
   ]
  },
  {
   "cell_type": "code",
   "execution_count": null,
   "metadata": {},
   "outputs": [],
   "source": [
    "####organize all these and pass to focal_plane \n",
    "args_new = {'Lenslet_object':lens,\n",
    "            'SkyBG':skybg,\n",
    "            'SkyTrans':skytrans,\n",
    "            'InstTransEm':inst,\n",
    "            'Filter':filt,\n",
    "            'QE':qe}\n",
    "fp = FocalPlane(args_new)"
   ]
  },
  {
   "cell_type": "markdown",
   "metadata": {},
   "source": [
    "## Setting up a target for scalessim"
   ]
  },
  {
   "cell_type": "code",
   "execution_count": null,
   "metadata": {},
   "outputs": [],
   "source": [
    "T_s = 10000 #stellar temperature in K\n",
    "logg = 4.5 #log surface gravity [cgs]\n",
    "zz = 0.0 #metallicity \n",
    "rstar = 2.0 #stellar radius in solar radii\n",
    "dstar = 100.0 #distance in pc\n",
    "\n",
    "wav,I_lam = phoenix_star(T_s,logg,zz,rstar,dstar)\n",
    "\n",
    "####set this up as a Target\n",
    "targ = Target(wav,I_lam)"
   ]
  },
  {
   "cell_type": "markdown",
   "metadata": {},
   "source": [
    "## Generate raw SCALES frame using target + PSF"
   ]
  },
  {
   "cell_type": "code",
   "execution_count": null,
   "metadata": {},
   "outputs": [],
   "source": [
    "raw, bg_star_truth = fp.get_fp(dit*u.s,targ,return_full=True,PSF=keck_cube)\n",
    "rawfile = 'raw_frame_targ.fits'\n",
    "pyfits.writeto(rawfile,np.array(raw),clobber=True)\n",
    "\n",
    "f = plt.figure(figsize=(5,5))\n",
    "plt.imshow(raw**0.25)\n",
    "plt.show()"
   ]
  },
  {
   "cell_type": "code",
   "execution_count": null,
   "metadata": {},
   "outputs": [],
   "source": [
    "plt.imshow(raw[500:600,500:600])"
   ]
  },
  {
   "cell_type": "code",
   "execution_count": null,
   "metadata": {},
   "outputs": [],
   "source": []
  }
 ],
 "metadata": {
  "kernelspec": {
   "display_name": "Python 3",
   "language": "python",
   "name": "python3"
  },
  "language_info": {
   "codemirror_mode": {
    "name": "ipython",
    "version": 3
   },
   "file_extension": ".py",
   "mimetype": "text/x-python",
   "name": "python",
   "nbconvert_exporter": "python",
   "pygments_lexer": "ipython3",
   "version": "3.6.12"
  }
 },
 "nbformat": 4,
 "nbformat_minor": 4
}
