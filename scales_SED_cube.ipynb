{
 "cells": [
  {
   "cell_type": "markdown",
   "metadata": {},
   "source": [
    "# SCALES low-res SED example"
   ]
  },
  {
   "cell_type": "markdown",
   "metadata": {},
   "source": [
    "This notebook runs through all the steps for generating a raw SCALES image using either:\n",
    "\n",
    "(1) a target spectrum in erg/s/cm^2/um + a PSF\n",
    "OR\n",
    "(2) a model datacube with fluxes in erg/s/cm^2/um\n",
    "\n",
    "You don't need to change any of the configuration stuff at the beginning if you don't want to. There are comments that describe some parameters that you might be interested in adjusting.\n",
    "\n",
    "Right now we just have the 2-5 um mode enabled. In the future you'll be able to switch to other low-res modes. To do that all you have to do is change arg_spaxel['min_wavelength'] and arg_spaxel['max_wavelength'] at the bottom of the \"Configure SCALES Mode\" section.\n",
    "\n",
    "This example just uses PHOENIX models to set up simple stellar targets as \"Target\" objects. It then uses PHOENIX models to make an example model datacube that you can feed to the simulator. You can replace that with whatever scene you like, as long as the dimensions match the number of spaxels in each dimension (108 by 108). \n",
    "\n",
    "In the end it does a simple aperture extraction to generate a datacube. "
   ]
  },
  {
   "cell_type": "code",
   "execution_count": 1,
   "metadata": {},
   "outputs": [],
   "source": [
    "import sys\n",
    "import numpy as np\n",
    "import matplotlib.pyplot as plt\n",
    "import os\n",
    "from astropy.io import fits\n",
    "import scipy.ndimage\n",
    "from astropy import units as u\n",
    "\n",
    "from scalessim.DFT import *\n",
    "from scalessim.binning import *\n",
    "from scalessim.phasescreen import *\n",
    "from scalessim.pupil import *\n",
    "from scalessim.io import *\n",
    "from scalessim.focal_plane import *\n",
    "from scalessim.targs import *\n",
    "from scalessim.base import *\n",
    "from scalessim.helpers import *"
   ]
  },
  {
   "cell_type": "markdown",
   "metadata": {},
   "source": [
    "## Configure your H2RG"
   ]
  },
  {
   "cell_type": "markdown",
   "metadata": {},
   "source": [
    "Load in h2rg configuration file "
   ]
  },
  {
   "cell_type": "code",
   "execution_count": 2,
   "metadata": {},
   "outputs": [
    {
     "name": "stderr",
     "output_type": "stream",
     "text": [
      "/Users/stephsallum/Dropbox/scalessim/detector/nghxrg.py:345: SyntaxWarning: \"is\" with a literal. Did you mean \"==\"?\n",
      "  if mode is 'pink':\n"
     ]
    }
   ],
   "source": [
    "import configparser\n",
    "from detector import nghxrg as ng\n",
    "\n",
    "config = configparser.ConfigParser()\n",
    "config.read('h2rg.ini')\n",
    "\n",
    "arg_detector = {}\n",
    "arg_detector.update(read_ini(config['Defined']))\n",
    "\n",
    "ng_h2rg = ng.HXRGNoise(verbose=False,\n",
    "                        wind_mode='WINDOW',\n",
    "                        naxis1=1024, naxis2=1024,\n",
    "                        pca0_file='./detector/lmircam_pca0.fits')\n"
   ]
  },
  {
   "cell_type": "markdown",
   "metadata": {},
   "source": [
    "Define some reasonable noise parameters"
   ]
  },
  {
   "cell_type": "code",
   "execution_count": 3,
   "metadata": {},
   "outputs": [],
   "source": [
    "rd_noise=arg_detector['readout_noise_cds']*1.   # White read noise per integration\n",
    "pedestal=arg_detector['pedestal']*1.   # DC pedestal drift rms\n",
    "c_pink=arg_detector['c_pink']*1.     # Correlated pink noise\n",
    "u_pink=arg_detector['u_pink']*1.     # Uncorrelated pink noise\n",
    "acn=arg_detector['acn']*1.        # Correlated ACN\n",
    "pca0_amp=arg_detector['pca0_amp']*1.   # Amplitude of PCA zero \"picture frame\" noise\n",
    "\n",
    "#arg_detector "
   ]
  },
  {
   "cell_type": "markdown",
   "metadata": {},
   "source": [
    "## Configure SCALES mode"
   ]
  },
  {
   "cell_type": "markdown",
   "metadata": {},
   "source": [
    "Read in SCALES config file for H2RG"
   ]
  },
  {
   "cell_type": "code",
   "execution_count": 4,
   "metadata": {},
   "outputs": [],
   "source": [
    "config.read('scales_h2rg.ini')\n",
    "arg_spaxel = {}\n",
    "arg_spaxel.update(read_ini(config['Defined']))\n",
    "arg_spaxel.update(read_ini(config['Derived']))\n",
    "arg_spaxel.update(read_ini(config['User']))\n",
    "\n",
    "#arg_spaxel"
   ]
  },
  {
   "cell_type": "markdown",
   "metadata": {},
   "source": [
    "Adjust minimum and maximum wavelength if we want to"
   ]
  },
  {
   "cell_type": "code",
   "execution_count": 5,
   "metadata": {},
   "outputs": [],
   "source": [
    "arg_spaxel['min_wavelength'] = 2.0 #minimum wavelength in microns\n",
    "arg_spaxel['max_wavelength'] = 5.2 #maximum wavelength in microns"
   ]
  },
  {
   "cell_type": "markdown",
   "metadata": {},
   "source": [
    "## Set up lenslet traces"
   ]
  },
  {
   "cell_type": "code",
   "execution_count": 6,
   "metadata": {},
   "outputs": [],
   "source": [
    "lens = Lenslet(arg_spaxel)\n",
    "lens.get_shifts()\n",
    "lens.make_trace(phys=False)"
   ]
  },
  {
   "cell_type": "markdown",
   "metadata": {},
   "source": [
    "## Read in Keck pupil"
   ]
  },
  {
   "cell_type": "code",
   "execution_count": 8,
   "metadata": {},
   "outputs": [],
   "source": [
    "keck = fits.getdata('keckpupil.fits')\n",
    "keck = scipy.ndimage.zoom(keck, 10, order=0)\n",
    "pupil = Pupil()\n",
    "pupil.pupil = keck"
   ]
  },
  {
   "cell_type": "markdown",
   "metadata": {},
   "source": [
    "## Filtered phase screen for toy AO correction"
   ]
  },
  {
   "cell_type": "markdown",
   "metadata": {},
   "source": [
    "Can set screen1 to zeros to leave this out"
   ]
  },
  {
   "cell_type": "code",
   "execution_count": 9,
   "metadata": {},
   "outputs": [],
   "source": [
    "screen = PhaseScreen(pupil=pupil, L0=10)\n",
    "screen.sr_factor = screen.set_strehl(.8, 500e-9)\n",
    "screen1 = screen.get_res()\n",
    "#screen1 = np.zeros(screen1.shape)"
   ]
  },
  {
   "cell_type": "markdown",
   "metadata": {},
   "source": [
    "## Use pupil and residual phase to generate cube of Keck PSFs"
   ]
  },
  {
   "cell_type": "code",
   "execution_count": 10,
   "metadata": {},
   "outputs": [],
   "source": [
    "nspax = arg_spaxel['no_spaxel']\n",
    "nlam = lens.trace.shape[0]\n",
    "\n",
    "keck_cube = np.zeros((nlam, nspax, nspax))\n",
    "mag1 = magn(lens.lmin)\n",
    "mag2 = magn(lens.lmax)\n",
    "\n",
    "psf_file = 'keck_psf_cube_'+str(lens.lmin)+'_'+str(lens.lmax)+'_n'+str(nlam)+'.fits'\n",
    "if os.path.isfile(psf_file)==False:\n",
    "    for i, mag in enumerate(np.linspace(mag1, mag2, nlam)):\n",
    "        W = DFT_matrix(1600, mag)\n",
    "        A = pupil.pupil * np.exp(1.j * screen1)\n",
    "        out = abs(W.dot(A).dot(W))**2\n",
    "        out /= np.sum(out, axis=(0,1))\n",
    "        keck_cube[i] = frebin(out, (108, 108))\n",
    "    fits.writeto(psf_file,np.array(keck_cube),clobber=True)\n",
    "else: keck_cube = pyfits.getdata(psf_file)"
   ]
  },
  {
   "cell_type": "markdown",
   "metadata": {},
   "source": [
    "## Define some observational parameters"
   ]
  },
  {
   "cell_type": "markdown",
   "metadata": {},
   "source": [
    "-Reads in sky transmission and emission models provided by Gemini for MK site: https://www.gemini.edu/observing/telescopes-and-sites/sites#IRSky\n",
    "\n",
    "-Reads in atmospheric dispersion data based on relative humidity, temperature, pressure, and airmass\n",
    "\n",
    "-Instrument transmission & emission includes SCALES + AO emissivity\n",
    "\n",
    "-Default QE is 70%\n",
    "\n",
    "-For now set up perfect filter with tophat from lmin to lmax\n",
    "\n",
    "-Define single frame integration time in seconds"
   ]
  },
  {
   "cell_type": "code",
   "execution_count": 11,
   "metadata": {},
   "outputs": [],
   "source": [
    "vapor = 1 #PWV in mm\n",
    "airmass = 1 \n",
    "skybg = SkyBG(vapor,airmass)\n",
    "skytrans = SkyTrans(vapor,airmass)\n",
    "atmodisp = AtmoDispersion(90,20,600)\n",
    "inst_emissivities = [.08]*3 + [.01]*8\n",
    "inst_temps = [273*u.K]*11\n",
    "inst = InstTransEm(inst_emissivities, inst_temps)\n",
    "qe = QE()\n",
    "filt = Filter(lens.lmin,lens.lmax)\n",
    "dit = 1 ###integration time in seconds"
   ]
  },
  {
   "cell_type": "code",
   "execution_count": null,
   "metadata": {},
   "outputs": [],
   "source": [
    "####organize all these and pass to focal_plane \n",
    "args_new = {'Lenslet_object':lens,\n",
    "            'SkyBG':skybg,\n",
    "            'SkyTrans':skytrans,\n",
    "            'InstTransEm':inst,\n",
    "            'Filter':filt,\n",
    "            'QE':qe}\n",
    "fp = FocalPlane(args_new)"
   ]
  },
  {
   "cell_type": "markdown",
   "metadata": {},
   "source": [
    "## Setting up a target for scalessim"
   ]
  },
  {
   "cell_type": "code",
   "execution_count": null,
   "metadata": {},
   "outputs": [],
   "source": [
    "T_s = 10000 #stellar temperature in K\n",
    "logg = 4.5 #log surface gravity [cgs]\n",
    "zz = 0.0 #metallicity \n",
    "rstar = 2.0 #stellar radius in solar radii\n",
    "dstar = 100.0 #distance in pc\n",
    "\n",
    "wav,I_lam = phoenix_star(T_s,logg,zz,rstar,dstar)\n",
    "\n",
    "####set this up as a Target\n",
    "targ = Target(wav,I_lam)"
   ]
  },
  {
   "cell_type": "markdown",
   "metadata": {},
   "source": [
    "## Generate raw SCALES frame using target + PSF"
   ]
  },
  {
   "cell_type": "code",
   "execution_count": null,
   "metadata": {},
   "outputs": [],
   "source": [
    "raw, bg_star_truth = fp.get_fp(dit*u.s,targ,return_full=True,PSF=keck_cube)\n",
    "rawfile = 'raw_frame_targ.fits'\n",
    "pyfits.writeto(rawfile,np.array(raw),clobber=True)\n",
    "\n",
    "f = plt.figure(figsize=(5,5))\n",
    "plt.imshow(raw**0.25)\n",
    "plt.show()"
   ]
  },
  {
   "cell_type": "markdown",
   "metadata": {},
   "source": [
    "## Feeding scalessim a datacube instead"
   ]
  },
  {
   "cell_type": "markdown",
   "metadata": {},
   "source": [
    "Start with PSF and stellar spectrum"
   ]
  },
  {
   "cell_type": "code",
   "execution_count": null,
   "metadata": {},
   "outputs": [],
   "source": [
    "scene_cube = keck_cube.copy()\n",
    "\n",
    "T_s = 10000 #stellar temperature in K\n",
    "logg = 4.5 #log surface gravity [cgs]\n",
    "zz = 0.0 #metallicity \n",
    "rstar = 2.0 #stellar radius in solar radii\n",
    "dstar = 100.0 #distance in pc\n",
    "\n",
    "wav,I_lam = phoenix_star(T_s,logg,zz,rstar,dstar)\n",
    "I_lam2 = spectres(fp.lam.value,wav,I_lam)\n",
    "\n",
    "for x in range(len(I_lam2)): scene_cube[x]*=I_lam2[x]"
   ]
  },
  {
   "cell_type": "markdown",
   "metadata": {},
   "source": [
    "Shifted PSF for companion - fix this to actually re-generate the PSF later"
   ]
  },
  {
   "cell_type": "code",
   "execution_count": null,
   "metadata": {},
   "outputs": [],
   "source": [
    "keck_cube_2 = shift(keck_cube,(0,20,20))\n",
    "\n",
    "scene_cube_2 = keck_cube_2.copy()\n",
    "T_s = 10000 #stellar temperature in K\n",
    "logg = 4.5 #log surface gravity [cgs]\n",
    "zz = 0.0 #metallicity \n",
    "rstar = 2.0 #stellar radius in solar radii\n",
    "dstar = 100.0 #distance in pc\n",
    "\n",
    "wav,I_lam = phoenix_star(T_s,logg,zz,rstar,dstar)\n",
    "I_lam2 = spectres(fp.lam.value,wav,I_lam)\n",
    "\n",
    "for x in range(len(I_lam2)): scene_cube_2[x]*=I_lam2[x]"
   ]
  },
  {
   "cell_type": "code",
   "execution_count": null,
   "metadata": {},
   "outputs": [],
   "source": [
    "scene = scene_cube + scene_cube_2\n",
    "plt.imshow(scene[0])\n",
    "plt.show()"
   ]
  },
  {
   "cell_type": "markdown",
   "metadata": {},
   "source": [
    "## Generate a raw SCALES frame using input cube"
   ]
  },
  {
   "cell_type": "code",
   "execution_count": null,
   "metadata": {},
   "outputs": [],
   "source": [
    "scene = scene*u.erg / u.cm**2 / u.micron / u.s\n",
    "raw_c, bg_star_truth = fp.get_fp(dit*u.s,cube=scene,return_full=True)\n",
    "rawfile = 'raw_frame_cube.fits'\n",
    "pyfits.writeto(rawfile,np.array(raw_c),clobber=True)\n",
    "\n",
    "f = plt.figure(figsize=(5,5))\n",
    "plt.imshow(raw_c**0.2)\n",
    "plt.show()"
   ]
  },
  {
   "cell_type": "markdown",
   "metadata": {},
   "source": [
    "## Cube up raw frame using simple aperture extraction"
   ]
  },
  {
   "cell_type": "code",
   "execution_count": null,
   "metadata": {},
   "outputs": [],
   "source": [
    "from scipy import sparse\n",
    "\n",
    "nxlam = int(arg_spaxel['spectra_length'])\n",
    "xlams = np.linspace(lens.lmin,lens.lmax,nxlam)\n",
    "rectmat = sparse.load_npz('2.0_5.2_rectmat.npz')\n",
    "\n",
    "raw_f = raw_c.flatten()\n",
    "cube = (rectmat*raw_f).reshape(nxlam,nspax,nspax)\n",
    "\n",
    "f = plt.figure(figsize=(10,3))\n",
    "f.add_subplot(131)\n",
    "plt.imshow(cube[0])\n",
    "plt.title(str(np.round(xlams[0],1))+' um')\n",
    "f.add_subplot(132)\n",
    "plt.imshow(cube[22])\n",
    "plt.title(str(np.round(xlams[22],1))+' um')\n",
    "f.add_subplot(133)\n",
    "plt.imshow(cube[50])\n",
    "plt.title(str(np.round(xlams[50],1))+' um')\n",
    "plt.show()"
   ]
  },
  {
   "cell_type": "code",
   "execution_count": null,
   "metadata": {},
   "outputs": [],
   "source": []
  }
 ],
 "metadata": {
  "kernelspec": {
   "display_name": "Python 3",
   "language": "python",
   "name": "python3"
  },
  "language_info": {
   "codemirror_mode": {
    "name": "ipython",
    "version": 3
   },
   "file_extension": ".py",
   "mimetype": "text/x-python",
   "name": "python",
   "nbconvert_exporter": "python",
   "pygments_lexer": "ipython3",
   "version": "3.8.5"
  }
 },
 "nbformat": 4,
 "nbformat_minor": 4
}
