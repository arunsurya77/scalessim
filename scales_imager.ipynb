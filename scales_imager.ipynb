{
 "cells": [
  {
   "cell_type": "code",
   "execution_count": 1,
   "metadata": {},
   "outputs": [],
   "source": [
    "import sys\n",
    "import numpy as np\n",
    "import matplotlib.pyplot as plt\n",
    "import os\n",
    "from astropy.io import fits\n",
    "import scipy.ndimage\n",
    "from astropy import units as u\n",
    "\n",
    "from scalessim.DFT import *\n",
    "from scalessim.binning import *\n",
    "from scalessim.phasescreen import *\n",
    "from scalessim.pupil import *\n",
    "from scalessim.io import *\n",
    "from scalessim.focal_plane_imager import *\n",
    "from scalessim.targs import *\n",
    "from scalessim.base import *\n",
    "from scalessim.helpers import *"
   ]
  },
  {
   "cell_type": "markdown",
   "metadata": {},
   "source": [
    "## Configure your H2RG"
   ]
  },
  {
   "cell_type": "markdown",
   "metadata": {},
   "source": [
    "Load in h2rg configuration file "
   ]
  },
  {
   "cell_type": "code",
   "execution_count": 2,
   "metadata": {},
   "outputs": [],
   "source": [
    "import configparser\n",
    "from detector import nghxrg as ng\n",
    "\n",
    "config = configparser.ConfigParser()\n",
    "config.read('h2rg.ini')\n",
    "\n",
    "arg_detector = {}\n",
    "arg_detector.update(read_ini(config['Defined']))\n",
    "\n",
    "ng_h2rg = ng.HXRGNoise(verbose=False,\n",
    "                        wind_mode='WINDOW',\n",
    "                        naxis1=1024, naxis2=1024,\n",
    "                        pca0_file='./detector/lmircam_pca0.fits')\n"
   ]
  },
  {
   "cell_type": "markdown",
   "metadata": {},
   "source": [
    "Define some reasonable noise parameters"
   ]
  },
  {
   "cell_type": "code",
   "execution_count": 3,
   "metadata": {},
   "outputs": [],
   "source": [
    "rd_noise=arg_detector['readout_noise_cds']*1.   # White read noise per integration\n",
    "pedestal=arg_detector['pedestal']*1.   # DC pedestal drift rms\n",
    "c_pink=arg_detector['c_pink']*1.     # Correlated pink noise\n",
    "u_pink=arg_detector['u_pink']*1.     # Uncorrelated pink noise\n",
    "acn=arg_detector['acn']*1.        # Correlated ACN\n",
    "pca0_amp=arg_detector['pca0_amp']*1.   # Amplitude of PCA zero \"picture frame\" noise\n",
    "\n",
    "#arg_detector "
   ]
  },
  {
   "cell_type": "markdown",
   "metadata": {},
   "source": [
    "## Configure SCALES mode"
   ]
  },
  {
   "cell_type": "markdown",
   "metadata": {},
   "source": [
    "Read in SCALES config file for H2RG"
   ]
  },
  {
   "cell_type": "code",
   "execution_count": 4,
   "metadata": {},
   "outputs": [],
   "source": [
    "config.read('scales_h2rg_imager.ini')\n",
    "arg_spaxel = {}\n",
    "arg_spaxel.update(read_ini(config['Defined']))\n",
    "arg_spaxel.update(read_ini(config['Derived']))\n",
    "arg_spaxel.update(read_ini(config['User']))\n",
    "arg_spaxel['plate_scale']=0.005\n",
    "fov = (arg_spaxel['plate_scale']*arg_spaxel['detector_px'])**2\n",
    "#arg_spaxel"
   ]
  },
  {
   "cell_type": "code",
   "execution_count": 5,
   "metadata": {},
   "outputs": [
    {
     "name": "stdout",
     "output_type": "stream",
     "text": [
      "(1600, 1600)\n"
     ]
    },
    {
     "data": {
      "image/png": "[encoded data removed]",
      "text/plain": [
       "<Figure size 432x288 with 1 Axes>"
      ]
     },
     "metadata": {
      "needs_background": "light"
     },
     "output_type": "display_data"
    }
   ],
   "source": [
    "keck = fits.getdata('keckpupil.fits')\n",
    "keck = scipy.ndimage.zoom(keck, 10, order=0)\n",
    "pupil = Pupil()\n",
    "pupil.pupil = keck\n",
    "print(keck.shape)\n",
    "\n",
    "mag = magn(3.6)\n",
    "W = DFT_matrix(1600, mag)\n",
    "screen1 = np.zeros(W.shape)\n",
    "A = pupil.pupil * np.exp(1.j * screen1)\n",
    "out = abs(W.dot(A).dot(W))**2\n",
    "out /= np.sum(out, axis=(0,1))\n",
    "im = frebin(out, (108, 108))\n",
    "plt.imshow(im[54-10:54+10,54-10:54+10])\n",
    "plt.show()"
   ]
  },
  {
   "cell_type": "markdown",
   "metadata": {},
   "source": [
    "## Read in Keck pupil"
   ]
  },
  {
   "cell_type": "markdown",
   "metadata": {},
   "source": [
    "## Filtered phase screen for toy AO correction"
   ]
  },
  {
   "cell_type": "markdown",
   "metadata": {},
   "source": [
    "Can set screen1 to zeros to leave this out"
   ]
  },
  {
   "cell_type": "code",
   "execution_count": 6,
   "metadata": {},
   "outputs": [
    {
     "name": "stdout",
     "output_type": "stream",
     "text": [
      "3.6\n"
     ]
    },
    {
     "data": {
      "image/png": "[encoded data removed]",
      "text/plain": [
       "<Figure size 432x288 with 1 Axes>"
      ]
     },
     "metadata": {
      "needs_background": "light"
     },
     "output_type": "display_data"
    },
    {
     "name": "stdout",
     "output_type": "stream",
     "text": [
      "[0.9     0.90002 0.90004 ... 5.59994 5.59996 5.59998] micron\n",
      "[4.013827 4.014692 4.015557 ... 5.391358 5.392222 5.392222] micron\n",
      "[[66913.05096594 66913.05096594 66913.05096594 ... 66913.05096594\n",
      "  66913.05096594 66913.05096594]\n",
      " [66913.05096594 66913.05096594 66913.05096594 ... 66913.05096594\n",
      "  66913.05096594 66913.05096594]\n",
      " [66913.05096594 66913.05096594 66913.05096594 ... 66913.05096594\n",
      "  66913.05096594 66913.05096594]\n",
      " ...\n",
      " [66913.05096594 66913.05096594 66913.05096594 ... 66913.05096594\n",
      "  66913.05096594 66913.05096594]\n",
      " [66913.05096594 66913.05096594 66913.05096594 ... 66913.05096594\n",
      "  66913.05096594 66913.05096594]\n",
      " [66913.05096594 66913.05096594 66913.05096594 ... 66913.05096594\n",
      "  66913.05096594 66913.05096594]]\n"
     ]
    },
    {
     "data": {
      "image/png": "[encoded data removed]",
      "text/plain": [
       "<Figure size 432x288 with 1 Axes>"
      ]
     },
     "metadata": {
      "needs_background": "light"
     },
     "output_type": "display_data"
    },
    {
     "ename": "NameError",
     "evalue": "name 'stop' is not defined",
     "output_type": "error",
     "traceback": [
      "\u001b[0;31m---------------------------------------------------------------------------\u001b[0m",
      "\u001b[0;31mNameError\u001b[0m                                 Traceback (most recent call last)",
      "\u001b[0;32m<ipython-input-6-fde9a3db85c5>\u001b[0m in \u001b[0;36m<module>\u001b[0;34m()\u001b[0m\n\u001b[1;32m     73\u001b[0m     \u001b[0mplt\u001b[0m\u001b[0;34m.\u001b[0m\u001b[0mimshow\u001b[0m\u001b[0;34m(\u001b[0m\u001b[0mraw\u001b[0m\u001b[0;34m)\u001b[0m\u001b[0;34m\u001b[0m\u001b[0;34m\u001b[0m\u001b[0m\n\u001b[1;32m     74\u001b[0m     \u001b[0mplt\u001b[0m\u001b[0;34m.\u001b[0m\u001b[0mshow\u001b[0m\u001b[0;34m(\u001b[0m\u001b[0;34m)\u001b[0m\u001b[0;34m\u001b[0m\u001b[0;34m\u001b[0m\u001b[0m\n\u001b[0;32m---> 75\u001b[0;31m     \u001b[0mstop\u001b[0m\u001b[0;34m\u001b[0m\u001b[0;34m\u001b[0m\u001b[0m\n\u001b[0m",
      "\u001b[0;31mNameError\u001b[0m: name 'stop' is not defined"
     ]
    }
   ],
   "source": [
    "modes = [[2.9,4.15],[2.0,5.2],[2.0,4.0],[3.1,3.5],[4.5,5.2],[1.95,2.45]]\n",
    "modes = [[2.0,5.2]]\n",
    "for wavs in modes:\n",
    "    wav_min,wav_max = wavs\n",
    "    arg_spaxel['min_wavelength'] = wav_min #minimum wavelength in microns\n",
    "    arg_spaxel['max_wavelength'] = wav_max #maximum wavelength in microns\n",
    "    \n",
    "    nspax = arg_spaxel['detector_px']\n",
    "\n",
    "    \n",
    "    lamc = np.round(np.mean([wav_min,wav_max]),3)\n",
    "    print(lamc)\n",
    "    \n",
    "    keckp = fits.getdata('keckpupil.fits')\n",
    "    mpp = 10.0/len(keckp)\n",
    "    mpp_des = 1.0/(2048.0*0.01)*206265.0*lamc*1.0e-6\n",
    "    keckt = scipy.ndimage.zoom(keckp, mpp/mpp_des, order=0)\n",
    "    keckt = np.pad(keckt,1000)\n",
    "    pupil = Pupil()\n",
    "    pupil.pupil = keckt\n",
    "    screen1 = np.zeros(pupil.pupil.shape)\n",
    "    \n",
    "    #mag1 = magn(lamc)\n",
    "    mag1 = 1.0\n",
    "\n",
    "    psf_file = 'keck_psf_cube_'+str(lamc)+'_imager.fits'\n",
    "    #if os.path.isfile(psf_file)==False:\n",
    "    W = DFT_matrix(len(pupil.pupil), mag1)\n",
    "    A = pupil.pupil * np.exp(1.j * screen1)\n",
    "    out = abs(W.dot(A).dot(W))**2\n",
    "    out /= np.sum(out, axis=(0,1))\n",
    "    keck_psf = frebin(out, (nspax,nspax))\n",
    "    fits.writeto(psf_file,np.array(keck_psf),clobber=True)\n",
    "    #else: keck_psf = pyfits.getdata(psf_file)\n",
    "    plt.imshow(keck_psf[1024-20:1024+20,1024-20:1024+20]**0.1)\n",
    "    plt.show()\n",
    "\n",
    "    \n",
    "    vapor = 1 #PWV in mm\n",
    "    airmass = 1 \n",
    "    skybg = SkyBG(vapor,airmass)\n",
    "    skytrans = SkyTrans(vapor,airmass)\n",
    "    atmodisp = AtmoDispersion(90,20,600)\n",
    "\n",
    "    telAO_emissivities = [0.4]\n",
    "    telAO_temps = [285*u.K]\n",
    "    scales_trans = [0.5454920871]\n",
    "    inst = InstTransEm(telAO_emissivities, telAO_temps, scales_trans)\n",
    "    \n",
    "    qe = QE()\n",
    "    filt = ImagerFilter(filename='nirc2_Ms.txt')\n",
    "    dit = 1 ###integration time in seconds\n",
    "    \n",
    "    ####organize all these and pass to focal_plane \n",
    "    args_new = {\n",
    "            'SkyBG':skybg,\n",
    "            'SkyTrans':skytrans,\n",
    "            'InstTransEm':inst,\n",
    "            'Filter':filt,\n",
    "            'QE':qe,\n",
    "            'FOV':fov, ###fov in square arcsec\n",
    "            'area':arg_spaxel['area'],\n",
    "            'DetectorPix':2048\n",
    "                }\n",
    "    fp = FocalPlaneImager(args_new)\n",
    "    \n",
    "    \n",
    "    \n",
    "    raw = fp.get_fp(dit*u.s,return_full=True,\n",
    "                                  bg_off=False, return_phots=True)\n",
    "    #rawfile = 'detector_'+str(wav_min)+'_'+str(wav_max)+'.fits'\n",
    "    #pyfits.writeto(rawfile,np.array(raw),clobber=True)\n",
    "    plt.imshow(raw)\n",
    "    plt.show()\n",
    "    stop"
   ]
  },
  {
   "cell_type": "code",
   "execution_count": null,
   "metadata": {},
   "outputs": [],
   "source": []
  },
  {
   "cell_type": "code",
   "execution_count": null,
   "metadata": {},
   "outputs": [],
   "source": []
  },
  {
   "cell_type": "code",
   "execution_count": null,
   "metadata": {},
   "outputs": [],
   "source": []
  }
 ],
 "metadata": {
  "kernelspec": {
   "display_name": "Python 3",
   "language": "python",
   "name": "python3"
  },
  "language_info": {
   "codemirror_mode": {
    "name": "ipython",
    "version": 3
   },
   "file_extension": ".py",
   "mimetype": "text/x-python",
   "name": "python",
   "nbconvert_exporter": "python",
   "pygments_lexer": "ipython3",
   "version": "3.6.12"
  }
 },
 "nbformat": 4,
 "nbformat_minor": 4
}
