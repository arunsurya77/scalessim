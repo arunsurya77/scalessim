{
 "cells": [
  {
   "cell_type": "code",
   "execution_count": 1,
   "metadata": {},
   "outputs": [],
   "source": [
    "import sys\n",
    "import numpy as np\n",
    "import matplotlib.pyplot as plt\n",
    "import os\n",
    "from astropy.io import fits\n",
    "import scipy.ndimage\n",
    "from astropy import units as u\n",
    "\n",
    "from scalessim.DFT import *\n",
    "from scalessim.binning import *\n",
    "from scalessim.phasescreen import *\n",
    "from scalessim.pupil import *\n",
    "from scalessim.io import *\n",
    "from scalessim.focal_plane import *\n",
    "from scalessim.targs import *\n",
    "from scalessim.base import *\n",
    "from scalessim.helpers import *"
   ]
  },
  {
   "cell_type": "markdown",
   "metadata": {},
   "source": [
    "## Configure your H2RG"
   ]
  },
  {
   "cell_type": "markdown",
   "metadata": {},
   "source": [
    "Load in h2rg configuration file "
   ]
  },
  {
   "cell_type": "code",
   "execution_count": 2,
   "metadata": {},
   "outputs": [],
   "source": [
    "import configparser\n",
    "from detector import nghxrg as ng\n",
    "\n",
    "config = configparser.ConfigParser()\n",
    "config.read('h2rg.ini')\n",
    "\n",
    "arg_detector = {}\n",
    "arg_detector.update(read_ini(config['Defined']))\n",
    "\n",
    "ng_h2rg = ng.HXRGNoise(verbose=False,\n",
    "                        wind_mode='WINDOW',\n",
    "                        naxis1=1024, naxis2=1024,\n",
    "                        pca0_file='./detector/lmircam_pca0.fits')\n"
   ]
  },
  {
   "cell_type": "markdown",
   "metadata": {},
   "source": [
    "Define some reasonable noise parameters"
   ]
  },
  {
   "cell_type": "code",
   "execution_count": 3,
   "metadata": {},
   "outputs": [],
   "source": [
    "rd_noise=arg_detector['readout_noise_cds']*1.   # White read noise per integration\n",
    "pedestal=arg_detector['pedestal']*1.   # DC pedestal drift rms\n",
    "c_pink=arg_detector['c_pink']*1.     # Correlated pink noise\n",
    "u_pink=arg_detector['u_pink']*1.     # Uncorrelated pink noise\n",
    "acn=arg_detector['acn']*1.        # Correlated ACN\n",
    "pca0_amp=arg_detector['pca0_amp']*1.   # Amplitude of PCA zero \"picture frame\" noise\n",
    "\n",
    "#arg_detector "
   ]
  },
  {
   "cell_type": "markdown",
   "metadata": {},
   "source": [
    "## Configure SCALES mode"
   ]
  },
  {
   "cell_type": "markdown",
   "metadata": {},
   "source": [
    "Read in SCALES config file for H2RG"
   ]
  },
  {
   "cell_type": "code",
   "execution_count": 4,
   "metadata": {},
   "outputs": [],
   "source": [
    "config.read('scales_h2rg.ini')\n",
    "arg_spaxel = {}\n",
    "arg_spaxel.update(read_ini(config['Defined']))\n",
    "arg_spaxel.update(read_ini(config['Derived']))\n",
    "arg_spaxel.update(read_ini(config['User']))\n",
    "\n",
    "#arg_spaxel"
   ]
  },
  {
   "cell_type": "markdown",
   "metadata": {},
   "source": [
    "## Read in Keck pupil"
   ]
  },
  {
   "cell_type": "code",
   "execution_count": 5,
   "metadata": {},
   "outputs": [],
   "source": [
    "keck = fits.getdata('keckpupil.fits')\n",
    "keck = scipy.ndimage.zoom(keck, 10, order=0)\n",
    "pupil = Pupil()\n",
    "pupil.pupil = keck"
   ]
  },
  {
   "cell_type": "markdown",
   "metadata": {},
   "source": [
    "## Filtered phase screen for toy AO correction"
   ]
  },
  {
   "cell_type": "markdown",
   "metadata": {},
   "source": [
    "Can set screen1 to zeros to leave this out"
   ]
  },
  {
   "cell_type": "code",
   "execution_count": 6,
   "metadata": {},
   "outputs": [],
   "source": [
    "screen1 = np.zeros(pupil.pupil.shape)"
   ]
  },
  {
   "cell_type": "code",
   "execution_count": 18,
   "metadata": {},
   "outputs": [
    {
     "name": "stdout",
     "output_type": "stream",
     "text": [
      "[1.9  1.91 1.92 1.93 1.94 1.95 1.96 1.97 1.98 1.99 2.   2.01 2.02 2.03\n",
      " 2.04 2.05 2.06 2.07 2.08 2.09 2.1  2.11 2.12 2.13 2.14 2.15 2.16 2.17\n",
      " 2.18 2.19 2.2  2.21 2.22 2.23 2.24 2.25 2.26 2.27 2.28 2.29 2.3  2.31\n",
      " 2.32 2.33 2.34 2.35 2.36 2.37 2.38 2.39 2.4  2.41 2.42 2.43 2.44 2.45\n",
      " 2.46 2.47 2.48 2.49 2.5  2.51 2.52 2.53 2.54 2.55 2.56 2.57 2.58 2.59\n",
      " 2.6  2.61 2.62 2.63 2.64 2.65 2.66 2.67 2.68 2.69 2.7  2.71 2.72 2.73\n",
      " 2.74 2.75 2.76 2.77 2.78 2.79 2.8  2.81 2.82 2.83 2.84 2.85 2.86 2.87\n",
      " 2.88 2.89 2.9  2.91 2.92 2.93 2.94 2.95 2.96 2.97 2.98 2.99 3.   3.01\n",
      " 3.02 3.03 3.04 3.05 3.06 3.07 3.08 3.09 3.1  3.11 3.12 3.13 3.14 3.15\n",
      " 3.16 3.17 3.18 3.19 3.2  3.21 3.22 3.23 3.24 3.25 3.26 3.27 3.28 3.29\n",
      " 3.3  3.31 3.32 3.33 3.34 3.35 3.36 3.37 3.38 3.39 3.4  3.41 3.42 3.43\n",
      " 3.44 3.45 3.46 3.47 3.48 3.49 3.5  3.51 3.52 3.53 3.54 3.55 3.56 3.57\n",
      " 3.58 3.59 3.6  3.61 3.62 3.63 3.64 3.65 3.66 3.67 3.68 3.69 3.7  3.71\n",
      " 3.72 3.73 3.74 3.75 3.76 3.77 3.78 3.79 3.8  3.81 3.82 3.83 3.84 3.85\n",
      " 3.86 3.87 3.88 3.89 3.9  3.91 3.92 3.93 3.94 3.95 3.96 3.97 3.98 3.99\n",
      " 4.   4.01 4.02 4.03 4.04 4.05 4.06 4.07 4.08 4.09 4.1  4.11 4.12 4.13\n",
      " 4.14 4.15 4.16 4.17 4.18 4.19 4.2  4.21 4.22 4.23 4.24 4.25 4.26 4.27\n",
      " 4.28 4.29 4.3  4.31 4.32 4.33 4.34 4.35 4.36 4.37 4.38 4.39 4.4  4.41\n",
      " 4.42 4.43 4.44 4.45 4.46 4.47 4.48 4.49 4.5  4.51 4.52 4.53 4.54 4.55\n",
      " 4.56 4.57 4.58 4.59 4.6  4.61 4.62 4.63 4.64 4.65 4.66 4.67 4.68 4.69\n",
      " 4.7  4.71 4.72 4.73 4.74 4.75 4.76 4.77 4.78 4.79 4.8  4.81 4.82 4.83\n",
      " 4.84 4.85 4.86 4.87 4.88 4.89 4.9  4.91 4.92 4.93 4.94 4.95 4.96 4.97\n",
      " 4.98 4.99 5.   5.01 5.02 5.03 5.04 5.05 5.06 5.07 5.08 5.09 5.1  5.11\n",
      " 5.12 5.13 5.14 5.15 5.16 5.17 5.18 5.19 5.2  5.21 5.22 5.23 5.24 5.25\n",
      " 5.26 5.27 5.28 5.29 5.3 ]\n",
      "[0. 0. 0. 0. 0. 0. 0. 0. 0. 0. 0. 0. 0. 0. 0. 0. 0. 0. 0. 0. 0. 0. 0. 0.\n",
      " 0. 0. 0. 0. 0. 0. 0. 0. 0. 0. 0. 0. 0. 0. 0. 0. 0. 0. 0. 0. 0. 0. 0. 0.\n",
      " 0. 0. 0. 0. 0. 0. 0. 0. 0. 0. 0. 0. 0. 0. 0. 0. 0. 0. 0. 0. 0. 0. 0. 0.\n",
      " 0. 0. 0. 0. 0. 0. 0. 0. 0. 0. 0. 0. 0. 0. 0. 0. 0. 0. 0. 0. 0. 0. 0. 0.\n",
      " 0. 0. 0. 0. 0. 0. 0. 0. 0. 0. 0. 0. 0. 0. 1. 0. 0. 0. 0. 0. 0. 0. 0. 0.\n",
      " 0. 0. 0. 0. 0. 0. 0. 0. 0. 0. 0. 0. 0. 0. 0. 0. 0. 0. 0. 0. 0. 0. 0. 0.\n",
      " 0. 0. 0. 0. 0. 0. 0. 0. 0. 0. 0. 0. 0. 0. 0. 0. 0. 0. 0. 0. 0. 0. 0. 0.\n",
      " 0. 0. 0. 0. 0. 0. 0. 0. 0. 0. 0. 0. 0. 0. 0. 0. 0. 0. 0. 0. 0. 0. 0. 0.\n",
      " 0. 0. 0. 0. 0. 0. 0. 0. 0. 0. 0. 0. 0. 0. 0. 0. 0. 0. 0. 0. 0. 0. 0. 0.\n",
      " 0. 0. 0. 0. 0. 0. 0. 0. 0. 0. 0. 0. 0. 0. 0. 0. 0. 0. 0. 0. 0. 0. 0. 0.\n",
      " 0. 0. 0. 0. 0. 0. 0. 0. 0. 0. 0. 0. 0. 0. 0. 0. 0. 0. 0. 0. 0. 0. 0. 0.\n",
      " 0. 0. 0. 0. 0. 0. 0. 0. 0. 0. 0. 0. 0. 0. 0. 0. 0. 0. 0. 0. 0. 0. 0. 0.\n",
      " 0. 0. 0. 0. 0. 0. 0. 0. 0. 0. 0. 0. 0. 0. 0. 0. 0. 0. 0. 0. 0. 0. 0. 0.\n",
      " 0. 0. 0. 0. 0. 0. 0. 0. 0. 0. 0. 0. 0. 0. 0. 0. 0. 0. 0. 0. 0. 0. 0. 0.\n",
      " 0. 0. 0. 0. 0.]\n",
      "[1.9  1.91 1.92 1.93 1.94 1.95 1.96 1.97 1.98 1.99 2.   2.01 2.02 2.03\n",
      " 2.04 2.05 2.06 2.07 2.08 2.09 2.1  2.11 2.12 2.13 2.14 2.15 2.16 2.17\n",
      " 2.18 2.19 2.2  2.21 2.22 2.23 2.24 2.25 2.26 2.27 2.28 2.29 2.3  2.31\n",
      " 2.32 2.33 2.34 2.35 2.36 2.37 2.38 2.39 2.4  2.41 2.42 2.43 2.44 2.45\n",
      " 2.46 2.47 2.48 2.49 2.5  2.51 2.52 2.53 2.54 2.55 2.56 2.57 2.58 2.59\n",
      " 2.6  2.61 2.62 2.63 2.64 2.65 2.66 2.67 2.68 2.69 2.7  2.71 2.72 2.73\n",
      " 2.74 2.75 2.76 2.77 2.78 2.79 2.8  2.81 2.82 2.83 2.84 2.85 2.86 2.87\n",
      " 2.88 2.89 2.9  2.91 2.92 2.93 2.94 2.95 2.96 2.97 2.98 2.99 3.   3.01\n",
      " 3.02 3.03 3.04 3.05 3.06 3.07 3.08 3.09 3.1  3.11 3.12 3.13 3.14 3.15\n",
      " 3.16 3.17 3.18 3.19 3.2  3.21 3.22 3.23 3.24 3.25 3.26 3.27 3.28 3.29\n",
      " 3.3  3.31 3.32 3.33 3.34 3.35 3.36 3.37 3.38 3.39 3.4  3.41 3.42 3.43\n",
      " 3.44 3.45 3.46 3.47 3.48 3.49 3.5  3.51 3.52 3.53 3.54 3.55 3.56 3.57\n",
      " 3.58 3.59 3.6  3.61 3.62 3.63 3.64 3.65 3.66 3.67 3.68 3.69 3.7  3.71\n",
      " 3.72 3.73 3.74 3.75 3.76 3.77 3.78 3.79 3.8  3.81 3.82 3.83 3.84 3.85\n",
      " 3.86 3.87 3.88 3.89 3.9  3.91 3.92 3.93 3.94 3.95 3.96 3.97 3.98 3.99\n",
      " 4.   4.01 4.02 4.03 4.04 4.05 4.06 4.07 4.08 4.09 4.1  4.11 4.12 4.13\n",
      " 4.14 4.15 4.16 4.17 4.18 4.19 4.2  4.21 4.22 4.23 4.24 4.25 4.26 4.27\n",
      " 4.28 4.29 4.3  4.31 4.32 4.33 4.34 4.35 4.36 4.37 4.38 4.39 4.4  4.41\n",
      " 4.42 4.43 4.44 4.45 4.46 4.47 4.48 4.49 4.5  4.51 4.52 4.53 4.54 4.55\n",
      " 4.56 4.57 4.58 4.59 4.6  4.61 4.62 4.63 4.64 4.65 4.66 4.67 4.68 4.69\n",
      " 4.7  4.71 4.72 4.73 4.74 4.75 4.76 4.77 4.78 4.79 4.8  4.81 4.82 4.83\n",
      " 4.84 4.85 4.86 4.87 4.88 4.89 4.9  4.91 4.92 4.93 4.94 4.95 4.96 4.97\n",
      " 4.98 4.99 5.   5.01 5.02 5.03 5.04 5.05 5.06 5.07 5.08 5.09 5.1  5.11\n",
      " 5.12 5.13 5.14 5.15 5.16 5.17 5.18 5.19 5.2  5.21 5.22 5.23 5.24 5.25\n",
      " 5.26 5.27 5.28 5.29 5.3 ] micron\n",
      "using cube\n",
      "making full raw image\n"
     ]
    }
   ],
   "source": [
    "modes = [[2.9,4.15],[2.0,5.2],[2.0,4.0],[3.1,3.5],[4.5,5.2],[1.95,2.45]]\n",
    "modes = [[2.0,5.2]]\n",
    "for wavs in modes:\n",
    "    wav_min,wav_max = wavs\n",
    "    arg_spaxel['min_wavelength'] = wav_min #minimum wavelength in microns\n",
    "    arg_spaxel['max_wavelength'] = wav_max #maximum wavelength in microns\n",
    "    \n",
    "    lens = Lenslet(arg_spaxel)\n",
    "    lens.get_shifts()\n",
    "    lens.make_trace(phys=True,disp=True,verbose=True)\n",
    "    \n",
    "    nspax = arg_spaxel['no_spaxel']\n",
    "    nlam = lens.trace.shape[0]\n",
    "\n",
    "    keck_cube = np.zeros((nlam, nspax, nspax))\n",
    "    mag1 = magn(lens.lmin)\n",
    "    mag2 = magn(lens.lmax)\n",
    "\n",
    "    psf_file = 'keck_psf_cube_'+str(lens.lmin)+'_'+str(lens.lmax)+'_n'+str(nlam)+'.fits'\n",
    "    if os.path.isfile(psf_file)==False:\n",
    "        for i, mag in enumerate(np.linspace(mag1, mag2, nlam)):\n",
    "            W = DFT_matrix(1600, mag)\n",
    "            A = pupil.pupil * np.exp(1.j * screen1)\n",
    "            out = abs(W.dot(A).dot(W))**2\n",
    "            out /= np.sum(out, axis=(0,1))\n",
    "            keck_cube[i] = frebin(out, (108, 108))\n",
    "        fits.writeto(psf_file,np.array(keck_cube),clobber=True)\n",
    "    else: keck_cube = pyfits.getdata(psf_file)\n",
    "\n",
    "    vapor = 1 #PWV in mm\n",
    "    airmass = 1 \n",
    "    skybg = SkyBG(vapor,airmass)\n",
    "    skytrans = SkyTrans(vapor,airmass)\n",
    "    atmodisp = AtmoDispersion(90,20,600)\n",
    "\n",
    "    telAO_emissivities = [0.4]\n",
    "    telAO_temps = [285*u.K]\n",
    "    scales_trans = [0.4]\n",
    "    inst = InstTransEm(telAO_emissivities, telAO_temps, scales_trans)\n",
    "    \n",
    "    qe = QE()\n",
    "    filt = Filter(lmin=lens.lmin,lmax=lens.lmax,fkw='asahi')\n",
    "    dit = 1 ###integration time in seconds\n",
    "    \n",
    "    ####organize all these and pass to focal_plane \n",
    "    args_new = {'Lenslet_object':lens,\n",
    "            'SkyBG':skybg,\n",
    "            'SkyTrans':skytrans,\n",
    "            'InstTransEm':inst,\n",
    "            'Filter':filt,\n",
    "            'QE':qe}\n",
    "    fp = FocalPlane(args_new)\n",
    "    \n",
    "    \n",
    "        \n",
    " \n",
    "    ####set up calibration source as cube\n",
    "    lcal = 3.0\n",
    "    fcal = 1.0 ###cal flux in erg / s / cm^2 / um\n",
    "    wav = fp.lam.value\n",
    "    print(wav)\n",
    "    I_lam = np.zeros(len(wav))\n",
    "    I_lam[np.where(np.abs(wav-lcal)<1.0e-6)] = fcal\n",
    "    print(I_lam)\n",
    "    scene_conv = np.ones(keck_cube.shape)*I_lam.reshape([341,1,1])\n",
    "    scene_conv = scene_conv*u.erg / u.cm**2 / u.micron / u.s\n",
    "    \n",
    "    \n",
    "    \n",
    "    raw, bg_star_truth = fp.get_fp(dit*u.s,return_full=True,cube=scene_conv,\n",
    "                                  bg_off=True)\n",
    "    rawfile = 'calibration_'+str(wav_min)+'_'+str(wav_max)+'_'+str(lcal)+'.fits'\n",
    "    pyfits.writeto(rawfile,np.array(raw),clobber=True)\n",
    "    "
   ]
  },
  {
   "cell_type": "code",
   "execution_count": null,
   "metadata": {},
   "outputs": [],
   "source": []
  },
  {
   "cell_type": "code",
   "execution_count": null,
   "metadata": {},
   "outputs": [],
   "source": []
  },
  {
   "cell_type": "code",
   "execution_count": null,
   "metadata": {},
   "outputs": [],
   "source": []
  }
 ],
 "metadata": {
  "kernelspec": {
   "display_name": "Python 3",
   "language": "python",
   "name": "python3"
  },
  "language_info": {
   "codemirror_mode": {
    "name": "ipython",
    "version": 3
   },
   "file_extension": ".py",
   "mimetype": "text/x-python",
   "name": "python",
   "nbconvert_exporter": "python",
   "pygments_lexer": "ipython3",
   "version": "3.6.12"
  }
 },
 "nbformat": 4,
 "nbformat_minor": 4
}
